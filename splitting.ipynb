{
 "cells": [
  {
   "cell_type": "code",
   "execution_count": 4,
   "id": "20d8aead-828c-4ae0-91fb-9c9429fc7904",
   "metadata": {},
   "outputs": [
    {
     "name": "stderr",
     "output_type": "stream",
     "text": [
      "Copying files: 2700 files [00:05, 464.10 files/s]\n"
     ]
    }
   ],
   "source": [
    "import splitfolders\n",
    "\n",
    "# Replace these paths with your actual paths\n",
    "input_folder = 'dataset'\n",
    "output_folder = 'folder'\n",
    "\n",
    "# Split the data into train, test, and val folders\n",
    "splitfolders.ratio(input_folder, output=output_folder, seed=42, ratio=(0.7, 0.15, 0.15))\n"
   ]
  },
  {
   "cell_type": "code",
   "execution_count": null,
   "id": "2d6cb6a0-d4ce-47c9-a112-9da9988732d3",
   "metadata": {},
   "outputs": [],
   "source": []
  }
 ],
 "metadata": {
  "kernelspec": {
   "display_name": "cuda",
   "language": "python",
   "name": "cuda"
  },
  "language_info": {
   "codemirror_mode": {
    "name": "ipython",
    "version": 3
   },
   "file_extension": ".py",
   "mimetype": "text/x-python",
   "name": "python",
   "nbconvert_exporter": "python",
   "pygments_lexer": "ipython3",
   "version": "3.8.18"
  }
 },
 "nbformat": 4,
 "nbformat_minor": 5
}
